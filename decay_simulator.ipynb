{
 "cells": [
  {
   "cell_type": "markdown",
   "metadata": {},
   "source": [
    "# Decay Simulator\n",
    "\n",
    "Modeling inflation & supply for different decay curves"
   ]
  },
  {
   "cell_type": "code",
   "execution_count": 9,
   "metadata": {
    "collapsed": true
   },
   "outputs": [],
   "source": [
    "def exponential_decay(i, cur_infl):\n",
    "    rates.append([i, cur_infl])\n",
    "    if cur_infl <= target_infl:\n",
    "        return 1\n",
    "    new_infl = cur_infl - cur_infl*decay_rate\n",
    "    return exponential_decay(i+1, new_infl) + 1"
   ]
  },
  {
   "cell_type": "code",
   "execution_count": 10,
   "metadata": {
    "collapsed": true
   },
   "outputs": [],
   "source": [
    "def constant_decay(cur_infl):\n",
    "    print cur_infl\n",
    "    if cur_infl <= target_infl:\n",
    "        return 1\n",
    "    new_infl = cur_infl - cur_infl*decay_rate\n",
    "    return constant_decay(new_infl) + 1"
   ]
  },
  {
   "cell_type": "code",
   "execution_count": 14,
   "metadata": {},
   "outputs": [],
   "source": [
    "import pandas as pd\n",
    "\n",
    "initial_infl = 0.095\n",
    "target_infl = 0.0095\n",
    "decay_rate = 0.01\n",
    "rates = []\n",
    "exponential_decay(0, initial_infl)\n",
    "\n",
    "df = pd.DataFrame(rates,  columns=['year', 'inflation'])\n",
    "#df"
   ]
  },
  {
   "cell_type": "code",
   "execution_count": 17,
   "metadata": {},
   "outputs": [
    {
     "data": {
      "image/png": "[encoded data removed]",
      "text/plain": [
       "<matplotlib.figure.Figure at 0x1178ec050>"
      ]
     },
     "metadata": {},
     "output_type": "display_data"
    }
   ],
   "source": [
    "import matplotlib as mpl\n",
    "df['inflation'].plot(grid=True)\n",
    "mpl.pyplot.show()"
   ]
  },
  {
   "cell_type": "code",
   "execution_count": null,
   "metadata": {
    "collapsed": true
   },
   "outputs": [],
   "source": []
  }
 ],
 "metadata": {
  "kernelspec": {
   "display_name": "Python 2",
   "language": "python",
   "name": "python2"
  },
  "language_info": {
   "codemirror_mode": {
    "name": "ipython",
    "version": 2
   },
   "file_extension": ".py",
   "mimetype": "text/x-python",
   "name": "python",
   "nbconvert_exporter": "python",
   "pygments_lexer": "ipython2",
   "version": "2.7.13"
  }
 },
 "nbformat": 4,
 "nbformat_minor": 2
}
